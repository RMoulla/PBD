{
  "nbformat": 4,
  "nbformat_minor": 0,
  "metadata": {
    "colab": {
      "provenance": [],
      "authorship_tag": "ABX9TyM/X3h6JaTPAfuBAew/lU33",
      "include_colab_link": true
    },
    "kernelspec": {
      "name": "python3",
      "display_name": "Python 3"
    },
    "language_info": {
      "name": "python"
    }
  },
  "cells": [
    {
      "cell_type": "markdown",
      "metadata": {
        "id": "view-in-github",
        "colab_type": "text"
      },
      "source": [
        "<a href=\"https://colab.research.google.com/github/RMoulla/PBD/blob/main/Divers_PBD.ipynb\" target=\"_parent\"><img src=\"https://colab.research.google.com/assets/colab-badge.svg\" alt=\"Open In Colab\"/></a>"
      ]
    },
    {
      "cell_type": "markdown",
      "source": [
        "## Librairie Numpy\n"
      ],
      "metadata": {
        "id": "PgSHHnPZOy2o"
      }
    },
    {
      "cell_type": "markdown",
      "source": [
        "### Création de tableaux"
      ],
      "metadata": {
        "id": "ipVDFmkwPV8i"
      }
    },
    {
      "cell_type": "code",
      "source": [
        "import numpy as np\n",
        "\n",
        "# Création d'un tableau 1D\n",
        "arr1 = np.array([1, 2, 3, 4, 5])\n",
        "print(\"Tableau 1D:\", arr1)\n",
        "\n",
        "# Création d'un tableau 2D\n",
        "arr2 = np.array([[1, 2, 3], [4, 5, 6]])\n",
        "print(\"Tableau 2D:\\n\", arr2)\n"
      ],
      "metadata": {
        "colab": {
          "base_uri": "https://localhost:8080/"
        },
        "id": "_IJ2bGPTPBKz",
        "outputId": "3636484f-bb59-485b-f630-8cd22091b614"
      },
      "execution_count": null,
      "outputs": [
        {
          "output_type": "stream",
          "name": "stdout",
          "text": [
            "Tableau 1D: [1 2 3 4 5]\n",
            "Tableau 2D:\n",
            " [[1 2 3]\n",
            " [4 5 6]]\n"
          ]
        }
      ]
    },
    {
      "cell_type": "markdown",
      "source": [
        "### Accès aux éléments et slicing"
      ],
      "metadata": {
        "id": "hQtUP9RbPdeB"
      }
    },
    {
      "cell_type": "code",
      "source": [
        "# Accès à un élément\n",
        "print(\"Élément à l'index 2 de arr1:\", arr1[2])\n",
        "\n",
        "# Slicing\n",
        "print(\"Slicing de arr1 (1:4):\", arr1[1:4])\n",
        "print(\"Slicing de arr2 (0:2, 1:3):\\n\", arr2[0:2, 1:3])\n"
      ],
      "metadata": {
        "colab": {
          "base_uri": "https://localhost:8080/"
        },
        "id": "VRb9brInPGcW",
        "outputId": "7c1f34e4-62ef-4a4e-a043-5421d775f85a"
      },
      "execution_count": null,
      "outputs": [
        {
          "output_type": "stream",
          "name": "stdout",
          "text": [
            "Élément à l'index 2 de arr1: 3\n",
            "Slicing de arr1 (1:4): [2 3 4]\n",
            "Slicing de arr2 (0:2, 1:3):\n",
            " [[2 3]\n",
            " [5 6]]\n"
          ]
        }
      ]
    },
    {
      "cell_type": "markdown",
      "source": [
        "### Opérations arithmétiques sur les tableaux"
      ],
      "metadata": {
        "id": "5Ja8qjv8Pi8S"
      }
    },
    {
      "cell_type": "code",
      "source": [
        "# Opérations élémentaires\n",
        "arr = np.array([1, 2, 3, 4])\n",
        "print(\"Tableau original:\", arr)\n",
        "print(\"Addition:\", arr + 2)\n",
        "print(\"Soustraction:\", arr - 2)\n",
        "print(\"Multiplication:\", arr * 2)\n",
        "print(\"Division:\", arr / 2)\n",
        "\n",
        "# Opérations entre tableaux\n",
        "arr1 = np.array([1, 2, 3])\n",
        "arr2 = np.array([4, 5, 6])\n",
        "print(\"Addition de tableaux:\", arr1 + arr2)\n",
        "print(\"Produit de tableaux:\", arr1 * arr2)\n"
      ],
      "metadata": {
        "colab": {
          "base_uri": "https://localhost:8080/"
        },
        "id": "y5czXOv0PiJd",
        "outputId": "06240c18-9324-4f8d-8fee-9eea5f5dd626"
      },
      "execution_count": null,
      "outputs": [
        {
          "output_type": "stream",
          "name": "stdout",
          "text": [
            "Tableau original: [1 2 3 4]\n",
            "Addition: [3 4 5 6]\n",
            "Soustraction: [-1  0  1  2]\n",
            "Multiplication: [2 4 6 8]\n",
            "Division: [0.5 1.  1.5 2. ]\n",
            "Addition de tableaux: [5 7 9]\n",
            "Produit de tableaux: [ 4 10 18]\n"
          ]
        }
      ]
    },
    {
      "cell_type": "markdown",
      "source": [
        "## Traitement format JSON"
      ],
      "metadata": {
        "id": "wqHOE2k7JPqc"
      }
    },
    {
      "cell_type": "markdown",
      "source": [
        "### Ecriture de données semi-strcuturées avec JSON\n",
        "\n"
      ],
      "metadata": {
        "id": "rRKQmy1mJwA8"
      }
    },
    {
      "cell_type": "code",
      "execution_count": null,
      "metadata": {
        "colab": {
          "base_uri": "https://localhost:8080/"
        },
        "id": "f1LeR1YzJLVU",
        "outputId": "0ebfdd1c-a0d1-4e15-ec93-a1aef4817a4d"
      },
      "outputs": [
        {
          "output_type": "stream",
          "name": "stdout",
          "text": [
            "Données semi-structurées:\n",
            "[\n",
            "    {\n",
            "        \"Name\": \"Alice\",\n",
            "        \"Age\": 24,\n",
            "        \"City\": \"New York\",\n",
            "        \"Contacts\": {\n",
            "            \"Email\": \"alice@example.com\",\n",
            "            \"Phone\": \"555-1234\"\n",
            "        },\n",
            "        \"Hobbies\": [\n",
            "            \"Reading\",\n",
            "            \"Hiking\"\n",
            "        ]\n",
            "    },\n",
            "    {\n",
            "        \"Name\": \"Bob\",\n",
            "        \"Age\": 27,\n",
            "        \"City\": \"Los Angeles\",\n",
            "        \"Contacts\": {\n",
            "            \"Email\": \"bob@example.com\",\n",
            "            \"Phone\": \"555-5678\"\n",
            "        },\n",
            "        \"Hobbies\": [\n",
            "            \"Cooking\",\n",
            "            \"Biking\"\n",
            "        ]\n",
            "    },\n",
            "    {\n",
            "        \"Name\": \"Charlie\",\n",
            "        \"Age\": 22,\n",
            "        \"City\": \"Chicago\",\n",
            "        \"Contacts\": {\n",
            "            \"Email\": \"charlie@example.com\",\n",
            "            \"Phone\": null\n",
            "        },\n",
            "        \"Hobbies\": [\n",
            "            \"Running\"\n",
            "        ]\n",
            "    },\n",
            "    {\n",
            "        \"Name\": \"David\",\n",
            "        \"Age\": 32,\n",
            "        \"City\": \"Houston\",\n",
            "        \"Contacts\": {\n",
            "            \"Email\": null,\n",
            "            \"Phone\": \"555-8765\"\n",
            "        },\n",
            "        \"Hobbies\": []\n",
            "    }\n",
            "]\n",
            "\n",
            "Données sauvegardées dans le fichier semi_structured_data.json.\n"
          ]
        }
      ],
      "source": [
        "import json\n",
        "\n",
        "data = [\n",
        "    {\n",
        "        \"Name\": \"Alice\",\n",
        "        \"Age\": 24,\n",
        "        \"City\": \"New York\",\n",
        "        \"Contacts\": {\n",
        "            \"Email\": \"alice@example.com\",\n",
        "            \"Phone\": \"555-1234\"\n",
        "        },\n",
        "        \"Hobbies\": [\"Reading\", \"Hiking\"]\n",
        "    },\n",
        "    {\n",
        "        \"Name\": \"Bob\",\n",
        "        \"Age\": 27,\n",
        "        \"City\": \"Los Angeles\",\n",
        "        \"Contacts\": {\n",
        "            \"Email\": \"bob@example.com\",\n",
        "            \"Phone\": \"555-5678\"\n",
        "        },\n",
        "        \"Hobbies\": [\"Cooking\", \"Biking\"]\n",
        "    },\n",
        "    {\n",
        "        \"Name\": \"Charlie\",\n",
        "        \"Age\": 22,\n",
        "        \"City\": \"Chicago\",\n",
        "        \"Contacts\": {\n",
        "            \"Email\": \"charlie@example.com\",\n",
        "            \"Phone\": None\n",
        "        },\n",
        "        \"Hobbies\": [\"Running\"]\n",
        "    },\n",
        "    {\n",
        "        \"Name\": \"David\",\n",
        "        \"Age\": 32,\n",
        "        \"City\": \"Houston\",\n",
        "        \"Contacts\": {\n",
        "            \"Email\": None,\n",
        "            \"Phone\": \"555-8765\"\n",
        "        },\n",
        "        \"Hobbies\": []\n",
        "    }\n",
        "]\n",
        "\n",
        "# Affichage des données semi-structurées\n",
        "print(\"Données semi-structurées:\")\n",
        "print(json.dumps(data, indent=4))\n",
        "\n",
        "# Sauvegarde en JSON\n",
        "json_file_path = 'semi_structured_data.json'\n",
        "with open(json_file_path, 'w') as json_file:\n",
        "    json.dump(data, json_file, indent=4)\n",
        "\n",
        "print(f\"\\nDonnées sauvegardées dans le fichier {json_file_path}.\")"
      ]
    },
    {
      "cell_type": "markdown",
      "source": [
        "### Lecture d'un JSON"
      ],
      "metadata": {
        "id": "f6I4IcS9KCWq"
      }
    },
    {
      "cell_type": "code",
      "source": [
        "with open(json_file_path, 'r') as json_file:\n",
        "    loaded_data = json.load(json_file)\n",
        "\n",
        "# Affichage des données lues\n",
        "print(\"\\nDonnées lues depuis le fichier JSON:\")\n",
        "print(json.dumps(loaded_data, indent=4))"
      ],
      "metadata": {
        "colab": {
          "base_uri": "https://localhost:8080/"
        },
        "id": "2BlRVCSfJ-Pt",
        "outputId": "20f004f3-9831-4cf6-a0db-0aeccb28470d"
      },
      "execution_count": null,
      "outputs": [
        {
          "output_type": "stream",
          "name": "stdout",
          "text": [
            "\n",
            "Données lues depuis le fichier JSON:\n",
            "[\n",
            "    {\n",
            "        \"Name\": \"Alice\",\n",
            "        \"Age\": 24,\n",
            "        \"City\": \"New York\",\n",
            "        \"Contacts\": {\n",
            "            \"Email\": \"alice@example.com\",\n",
            "            \"Phone\": \"555-1234\"\n",
            "        },\n",
            "        \"Hobbies\": [\n",
            "            \"Reading\",\n",
            "            \"Hiking\"\n",
            "        ]\n",
            "    },\n",
            "    {\n",
            "        \"Name\": \"Bob\",\n",
            "        \"Age\": 27,\n",
            "        \"City\": \"Los Angeles\",\n",
            "        \"Contacts\": {\n",
            "            \"Email\": \"bob@example.com\",\n",
            "            \"Phone\": \"555-5678\"\n",
            "        },\n",
            "        \"Hobbies\": [\n",
            "            \"Cooking\",\n",
            "            \"Biking\"\n",
            "        ]\n",
            "    },\n",
            "    {\n",
            "        \"Name\": \"Charlie\",\n",
            "        \"Age\": 22,\n",
            "        \"City\": \"Chicago\",\n",
            "        \"Contacts\": {\n",
            "            \"Email\": \"charlie@example.com\",\n",
            "            \"Phone\": null\n",
            "        },\n",
            "        \"Hobbies\": [\n",
            "            \"Running\"\n",
            "        ]\n",
            "    },\n",
            "    {\n",
            "        \"Name\": \"David\",\n",
            "        \"Age\": 32,\n",
            "        \"City\": \"Houston\",\n",
            "        \"Contacts\": {\n",
            "            \"Email\": null,\n",
            "            \"Phone\": \"555-8765\"\n",
            "        },\n",
            "        \"Hobbies\": []\n",
            "    }\n",
            "]\n"
          ]
        }
      ]
    },
    {
      "cell_type": "markdown",
      "source": [
        "## Traitement des données manquantes"
      ],
      "metadata": {
        "id": "P70nkcsAL9Re"
      }
    },
    {
      "cell_type": "code",
      "source": [
        "# Création d'un DataFrame avec des données manquantes\n",
        "\n",
        "import pandas as pd\n",
        "import numpy as np\n",
        "\n",
        "data = {\n",
        "    'Name': ['Alice', 'Bob', 'Raskolnikov', 'Anna', 'Béhémoth', 'Ivan', 'Karamazov'],\n",
        "    'Age': [24, np.nan, 22, 32, np.nan, 28, 30],\n",
        "    'City': ['Paris', 'Lyon', np.nan, 'Lille', 'Paris', 'Montpellier', np.nan],\n",
        "    'Score': [85.0, 90.5, np.nan, 88.0, 92.5, np.nan, 75.0]\n",
        "}\n",
        "df = pd.DataFrame(data)\n",
        "\n",
        "print(\"DataFrame avec des données manquantes:\")\n",
        "print(df)"
      ],
      "metadata": {
        "colab": {
          "base_uri": "https://localhost:8080/"
        },
        "id": "LrM4M7z3MPUm",
        "outputId": "a8a68888-e367-411c-8133-84ea9be28b79"
      },
      "execution_count": null,
      "outputs": [
        {
          "output_type": "stream",
          "name": "stdout",
          "text": [
            "DataFrame avec des données manquantes:\n",
            "          Name   Age         City  Score\n",
            "0        Alice  24.0        Paris   85.0\n",
            "1          Bob   NaN         Lyon   90.5\n",
            "2  Raskolnikov  22.0          NaN    NaN\n",
            "3         Anna  32.0        Lille   88.0\n",
            "4     Béhémoth   NaN        Paris   92.5\n",
            "5         Ivan  28.0  Montpellier    NaN\n",
            "6    Karamazov  30.0          NaN   75.0\n"
          ]
        }
      ]
    },
    {
      "cell_type": "markdown",
      "source": [
        "### Visualisation des données manquantes"
      ],
      "metadata": {
        "id": "VLs3u-MjMb9p"
      }
    },
    {
      "cell_type": "code",
      "source": [
        "import missingno as msno\n",
        "import matplotlib.pyplot as plt\n",
        "\n",
        "msno.matrix(df)\n",
        "plt.show()"
      ],
      "metadata": {
        "colab": {
          "base_uri": "https://localhost:8080/",
          "height": 515
        },
        "id": "8W-oZHCFMj_q",
        "outputId": "af8872d3-7309-427b-e748-1c3b473abe15"
      },
      "execution_count": null,
      "outputs": [
        {
          "output_type": "display_data",
          "data": {
            "text/plain": [
              "<Figure size 2500x1000 with 2 Axes>"
            ],
            "image/png": "[encoded data removed]"
          },
          "metadata": {}
        }
      ]
    },
    {
      "cell_type": "markdown",
      "source": [
        "### Imputation avec du machine learning"
      ],
      "metadata": {
        "id": "3LA4bv2nMzWa"
      }
    },
    {
      "cell_type": "code",
      "source": [
        "!pip install fancyimpute"
      ],
      "metadata": {
        "colab": {
          "base_uri": "https://localhost:8080/"
        },
        "id": "JLVe_j_fNFuW",
        "outputId": "6ce824ed-a204-4aa0-dee0-35b48f7cd96d"
      },
      "execution_count": null,
      "outputs": [
        {
          "output_type": "stream",
          "name": "stdout",
          "text": [
            "Requirement already satisfied: fancyimpute in /usr/local/lib/python3.10/dist-packages (0.7.0)\n",
            "Requirement already satisfied: knnimpute>=0.1.0 in /usr/local/lib/python3.10/dist-packages (from fancyimpute) (0.1.0)\n",
            "Requirement already satisfied: scikit-learn>=0.24.2 in /usr/local/lib/python3.10/dist-packages (from fancyimpute) (1.2.2)\n",
            "Requirement already satisfied: cvxpy in /usr/local/lib/python3.10/dist-packages (from fancyimpute) (1.3.4)\n",
            "Requirement already satisfied: cvxopt in /usr/local/lib/python3.10/dist-packages (from fancyimpute) (1.3.2)\n",
            "Requirement already satisfied: pytest in /usr/local/lib/python3.10/dist-packages (from fancyimpute) (7.4.4)\n",
            "Requirement already satisfied: nose in /usr/local/lib/python3.10/dist-packages (from fancyimpute) (1.3.7)\n",
            "Requirement already satisfied: six in /usr/local/lib/python3.10/dist-packages (from knnimpute>=0.1.0->fancyimpute) (1.16.0)\n",
            "Requirement already satisfied: numpy>=1.10 in /usr/local/lib/python3.10/dist-packages (from knnimpute>=0.1.0->fancyimpute) (1.25.2)\n",
            "Requirement already satisfied: scipy>=1.3.2 in /usr/local/lib/python3.10/dist-packages (from scikit-learn>=0.24.2->fancyimpute) (1.11.4)\n",
            "Requirement already satisfied: joblib>=1.1.1 in /usr/local/lib/python3.10/dist-packages (from scikit-learn>=0.24.2->fancyimpute) (1.4.2)\n",
            "Requirement already satisfied: threadpoolctl>=2.0.0 in /usr/local/lib/python3.10/dist-packages (from scikit-learn>=0.24.2->fancyimpute) (3.5.0)\n",
            "Requirement already satisfied: osqp>=0.4.1 in /usr/local/lib/python3.10/dist-packages (from cvxpy->fancyimpute) (0.6.2.post8)\n",
            "Requirement already satisfied: ecos>=2 in /usr/local/lib/python3.10/dist-packages (from cvxpy->fancyimpute) (2.0.14)\n",
            "Requirement already satisfied: scs>=1.1.6 in /usr/local/lib/python3.10/dist-packages (from cvxpy->fancyimpute) (3.2.5)\n",
            "Requirement already satisfied: setuptools>65.5.1 in /usr/local/lib/python3.10/dist-packages (from cvxpy->fancyimpute) (67.7.2)\n",
            "Requirement already satisfied: iniconfig in /usr/local/lib/python3.10/dist-packages (from pytest->fancyimpute) (2.0.0)\n",
            "Requirement already satisfied: packaging in /usr/local/lib/python3.10/dist-packages (from pytest->fancyimpute) (24.1)\n",
            "Requirement already satisfied: pluggy<2.0,>=0.12 in /usr/local/lib/python3.10/dist-packages (from pytest->fancyimpute) (1.5.0)\n",
            "Requirement already satisfied: exceptiongroup>=1.0.0rc8 in /usr/local/lib/python3.10/dist-packages (from pytest->fancyimpute) (1.2.1)\n",
            "Requirement already satisfied: tomli>=1.0.0 in /usr/local/lib/python3.10/dist-packages (from pytest->fancyimpute) (2.0.1)\n",
            "Requirement already satisfied: qdldl in /usr/local/lib/python3.10/dist-packages (from osqp>=0.4.1->cvxpy->fancyimpute) (0.1.7.post4)\n"
          ]
        }
      ]
    },
    {
      "cell_type": "code",
      "source": [
        "from fancyimpute import KNN\n",
        "from sklearn.impute import SimpleImputer\n",
        "\n",
        "# Étape 3 : Imputation des Données Manquantes\n",
        "\n",
        "# Imputation des valeurs manquantes en utilisant KNN pour les colonnes numériques\n",
        "df_imputed = df.copy()\n",
        "imputer_knn = KNN(k=3)\n",
        "numeric_columns = ['Age', 'Score']\n",
        "df_imputed[numeric_columns] = imputer_knn.fit_transform(df[numeric_columns])\n",
        "\n",
        "# Imputation des valeurs manquantes pour les colonnes catégorielles par la valeur la plus fréquente\n",
        "imputer_simple = SimpleImputer(strategy='most_frequent')\n",
        "df_imputed['City'] = imputer_simple.fit_transform(df[['City']]).ravel()\n",
        "\n",
        "print(\"\\nDataFrame après imputation avec KNN et SimpleImputer:\")\n",
        "print(df_imputed)\n"
      ],
      "metadata": {
        "colab": {
          "base_uri": "https://localhost:8080/"
        },
        "id": "xzZjjM7_M2eK",
        "outputId": "1ef0c614-183c-4d12-f965-253f0635fc85"
      },
      "execution_count": null,
      "outputs": [
        {
          "output_type": "stream",
          "name": "stdout",
          "text": [
            "Imputing row 1/7 with 0 missing, elapsed time: 0.001\n",
            "\n",
            "DataFrame après imputation avec KNN et SimpleImputer:\n",
            "          Name        Age         City      Score\n",
            "0        Alice  24.000000        Paris  85.000000\n",
            "1          Bob  30.616838         Lyon  90.500000\n",
            "2  Raskolnikov  22.000000        Paris  84.541953\n",
            "3         Anna  32.000000        Lille  88.000000\n",
            "4     Béhémoth  29.887808        Paris  92.500000\n",
            "5         Ivan  28.000000  Montpellier  78.833333\n",
            "6    Karamazov  30.000000        Paris  75.000000\n"
          ]
        }
      ]
    },
    {
      "cell_type": "markdown",
      "source": [
        "## Bases de données avec Python"
      ],
      "metadata": {
        "id": "Pniu_YphPuxF"
      }
    },
    {
      "cell_type": "code",
      "source": [
        "import sqlite3\n",
        "\n",
        "# Connexion à une base de données SQLite (cela crée une nouvelle base de données si elle n'existe pas)\n",
        "conn = sqlite3.connect('mabd.db')\n",
        "\n",
        "# Création d'un curseur\n",
        "cur = conn.cursor()\n"
      ],
      "metadata": {
        "id": "zB_OidNDQvFV"
      },
      "execution_count": null,
      "outputs": []
    },
    {
      "cell_type": "markdown",
      "source": [
        "### Création de la table"
      ],
      "metadata": {
        "id": "Q0INhsSjQ4vP"
      }
    },
    {
      "cell_type": "code",
      "source": [
        "# Création d'une table\n",
        "cur.execute('''\n",
        "CREATE TABLE IF NOT EXISTS users (\n",
        "    id INTEGER PRIMARY KEY AUTOINCREMENT,\n",
        "    name TEXT,\n",
        "    age REAL,\n",
        "    city TEXT,\n",
        "    score REAL\n",
        ")\n",
        "''')\n",
        "conn.commit()\n"
      ],
      "metadata": {
        "id": "9YjzbEEpQ7CZ"
      },
      "execution_count": null,
      "outputs": []
    },
    {
      "cell_type": "markdown",
      "source": [
        "### Insertion des donnéees"
      ],
      "metadata": {
        "id": "Sj7kTFNjRBTO"
      }
    },
    {
      "cell_type": "code",
      "source": [
        "# Insertion de données depuis le DataFrame\n",
        "for index, row in df.iterrows():\n",
        "    cur.execute('INSERT INTO users (name, age, city, score) VALUES (?, ?, ?, ?)',\n",
        "                (row['Name'], row['Age'], row['City'], row['Score']))\n",
        "conn.commit()"
      ],
      "metadata": {
        "id": "Z_n759BpREAd"
      },
      "execution_count": null,
      "outputs": []
    },
    {
      "cell_type": "markdown",
      "source": [
        "### Exemples de requêtes"
      ],
      "metadata": {
        "id": "3AqD3AALRX7v"
      }
    },
    {
      "cell_type": "code",
      "source": [
        "# Requête pour sélectionner l'âge de \"Alice\"\n",
        "cur.execute('SELECT age FROM users WHERE name = ?', ('Alice',))\n",
        "alice_age = cur.fetchone()\n",
        "\n",
        "print(\"\\nL'âge de Alice :\")\n",
        "print(alice_age[0] if alice_age else \"Alice not found\")"
      ],
      "metadata": {
        "colab": {
          "base_uri": "https://localhost:8080/"
        },
        "id": "6WONNjRKRbpJ",
        "outputId": "e1a7125a-3570-482b-addb-cc5efb1671cb"
      },
      "execution_count": null,
      "outputs": [
        {
          "output_type": "stream",
          "name": "stdout",
          "text": [
            "\n",
            "L'âge de Alice :\n",
            "24.0\n"
          ]
        }
      ]
    },
    {
      "cell_type": "code",
      "source": [
        "# Requête pour sélectionner tous les noms ayant un âge supérieur à 30 ans\n",
        "cur.execute('SELECT name FROM users WHERE age >= 30')\n",
        "names_above_30 = cur.fetchall()\n",
        "\n",
        "print(\"\\nNoms avec un âge supérieur à 30 ans :\")\n",
        "for name in names_above_30:\n",
        "    print(name[0])\n"
      ],
      "metadata": {
        "colab": {
          "base_uri": "https://localhost:8080/"
        },
        "id": "LDsJvP4_RxBi",
        "outputId": "a64e122c-9d49-4d48-c43f-d89802ada976"
      },
      "execution_count": null,
      "outputs": [
        {
          "output_type": "stream",
          "name": "stdout",
          "text": [
            "\n",
            "Noms avec un âge supérieur à 30 ans :\n",
            "Anna\n",
            "Karamazov\n"
          ]
        }
      ]
    }
  ]
}